{
 "cells": [
  {
   "cell_type": "markdown",
   "id": "17b0e005",
   "metadata": {
    "heading_collapsed": true
   },
   "source": [
    "# Imports"
   ]
  },
  {
   "cell_type": "code",
   "execution_count": 85,
   "id": "9ec3f1de",
   "metadata": {
    "ExecuteTime": {
     "end_time": "2022-08-15T19:32:29.088975Z",
     "start_time": "2022-08-15T19:32:29.086295Z"
    },
    "hidden": true
   },
   "outputs": [],
   "source": [
    "import psycopg2 as pg\n",
    "import numpy as np\n",
    "import pandas as pd\n",
    "import seaborn as sns\n",
    "import matplotlib.pyplot as plt"
   ]
  },
  {
   "cell_type": "code",
   "execution_count": 116,
   "id": "4de8da7b",
   "metadata": {
    "ExecuteTime": {
     "end_time": "2022-08-15T19:53:41.289466Z",
     "start_time": "2022-08-15T19:53:41.283541Z"
    },
    "hidden": true
   },
   "outputs": [],
   "source": [
    "# configurações globais\n",
    "sns.set_theme()                                                   # gráfico\n",
    "plt.rcParams['figure.figsize'] = [20, 12]                         # gráfico"
   ]
  },
  {
   "cell_type": "markdown",
   "id": "fc32f683",
   "metadata": {
    "heading_collapsed": true
   },
   "source": [
    "# 1 Coleta dos Dados"
   ]
  },
  {
   "cell_type": "code",
   "execution_count": 2,
   "id": "9d1c8d70",
   "metadata": {
    "ExecuteTime": {
     "end_time": "2022-08-15T18:58:00.622449Z",
     "start_time": "2022-08-15T18:58:00.616858Z"
    },
    "hidden": true
   },
   "outputs": [],
   "source": [
    "# Credenciais\n",
    "host = 'comunidade-ds-postgres.c50pcakiuwi3.us-east-1.rds.amazonaws.com'\n",
    "port = 5432\n",
    "database = 'comunidadedsdb'\n",
    "username = 'member'\n",
    "password = 'cdspa'"
   ]
  },
  {
   "cell_type": "code",
   "execution_count": 4,
   "id": "7f1b2352",
   "metadata": {
    "ExecuteTime": {
     "end_time": "2022-08-15T18:58:11.823825Z",
     "start_time": "2022-08-15T18:58:10.878118Z"
    },
    "hidden": true
   },
   "outputs": [],
   "source": [
    "conn = pg.connect(user = username,\n",
    "                  password = password,\n",
    "                  host = host,\n",
    "                  port = port,\n",
    "                  database = database)"
   ]
  },
  {
   "cell_type": "markdown",
   "id": "4ecbf648",
   "metadata": {
    "heading_collapsed": true,
    "hidden": true
   },
   "source": [
    "## 1.1 Consulta do Schema"
   ]
  },
  {
   "cell_type": "code",
   "execution_count": 33,
   "id": "23020a20",
   "metadata": {
    "ExecuteTime": {
     "end_time": "2022-08-14T17:38:22.951278Z",
     "start_time": "2022-08-14T17:38:22.914291Z"
    },
    "hidden": true
   },
   "outputs": [
    {
     "ename": "InterfaceError",
     "evalue": "connection already closed",
     "output_type": "error",
     "traceback": [
      "\u001b[0;31m---------------------------------------------------------------------------\u001b[0m",
      "\u001b[0;31mInterfaceError\u001b[0m                            Traceback (most recent call last)",
      "Input \u001b[0;32mIn [33]\u001b[0m, in \u001b[0;36m<cell line: 1>\u001b[0;34m()\u001b[0m\n\u001b[0;32m----> 1\u001b[0m cursor \u001b[38;5;241m=\u001b[39m \u001b[43mconn\u001b[49m\u001b[38;5;241;43m.\u001b[39;49m\u001b[43mcursor\u001b[49m\u001b[43m(\u001b[49m\u001b[43m)\u001b[49m\n\u001b[1;32m      3\u001b[0m query_schema \u001b[38;5;241m=\u001b[39m \u001b[38;5;124m\"\"\"\u001b[39m\n\u001b[1;32m      4\u001b[0m \u001b[38;5;124m    SELECT nspname\u001b[39m\n\u001b[1;32m      5\u001b[0m \u001b[38;5;124m    FROM pg_catalog.pg_namespace\u001b[39m\n\u001b[1;32m      6\u001b[0m \u001b[38;5;124m\"\"\"\u001b[39m\n\u001b[1;32m      8\u001b[0m cursor\u001b[38;5;241m.\u001b[39mexecute(query_schema)\n",
      "\u001b[0;31mInterfaceError\u001b[0m: connection already closed"
     ]
    }
   ],
   "source": [
    "cursor = conn.cursor()\n",
    "\n",
    "query_schema = \"\"\"\n",
    "    SELECT nspname\n",
    "    FROM pg_catalog.pg_namespace\n",
    "\"\"\"\n",
    "\n",
    "cursor.execute(query_schema)\n",
    "\n",
    "record = cursor.fetchall()\n",
    "cursor.close()\n",
    "conn.close()"
   ]
  },
  {
   "cell_type": "code",
   "execution_count": 11,
   "id": "fb64788a",
   "metadata": {
    "ExecuteTime": {
     "end_time": "2022-08-14T17:24:14.526511Z",
     "start_time": "2022-08-14T17:24:14.521161Z"
    },
    "hidden": true
   },
   "outputs": [
    {
     "data": {
      "text/plain": [
       "[('pg_toast',),\n",
       " ('pg_temp_1',),\n",
       " ('pg_toast_temp_1',),\n",
       " ('pg_catalog',),\n",
       " ('information_schema',),\n",
       " ('public',),\n",
       " ('pa004',),\n",
       " ('pg_temp_4',),\n",
       " ('pg_toast_temp_4',),\n",
       " ('pa005',),\n",
       " ('pg_temp_9',),\n",
       " ('pg_toast_temp_9',)]"
      ]
     },
     "execution_count": 11,
     "metadata": {},
     "output_type": "execute_result"
    }
   ],
   "source": [
    "record"
   ]
  },
  {
   "cell_type": "markdown",
   "id": "14c16766",
   "metadata": {
    "heading_collapsed": true,
    "hidden": true
   },
   "source": [
    "## 1.2 Consulta das Tabelas"
   ]
  },
  {
   "cell_type": "code",
   "execution_count": 25,
   "id": "fe9e4969",
   "metadata": {
    "ExecuteTime": {
     "end_time": "2022-08-14T17:32:02.853570Z",
     "start_time": "2022-08-14T17:32:02.701154Z"
    },
    "hidden": true
   },
   "outputs": [
    {
     "name": "stdout",
     "output_type": "stream",
     "text": [
      "[('users',), ('vehicle',), ('insurance',)]\n"
     ]
    }
   ],
   "source": [
    "cursor = conn.cursor()\n",
    "\n",
    "query_table = \"\"\"\n",
    "select tablename\n",
    "from pg_catalog.pg_tables pt \n",
    "where  schemaname = 'pa004'\n",
    "\"\"\"\n",
    "\n",
    "cursor.execute(query_table)\n",
    "record = cursor.fetchall()\n",
    "print(record)\n",
    "\n",
    "cursor.close()\n",
    "conn.close()"
   ]
  },
  {
   "cell_type": "markdown",
   "id": "812b3d8b",
   "metadata": {
    "ExecuteTime": {
     "end_time": "2022-08-14T17:30:25.209356Z",
     "start_time": "2022-08-14T17:30:25.192346Z"
    },
    "heading_collapsed": true,
    "hidden": true
   },
   "source": [
    "## 1.3 Coleta de Dados usando o Psycopg2"
   ]
  },
  {
   "cell_type": "code",
   "execution_count": 29,
   "id": "0699f150",
   "metadata": {
    "ExecuteTime": {
     "end_time": "2022-08-14T17:34:14.282777Z",
     "start_time": "2022-08-14T17:34:13.973288Z"
    },
    "hidden": true
   },
   "outputs": [
    {
     "name": "stdout",
     "output_type": "stream",
     "text": [
      "[(2, 'Male', 76, 3.0, 26.0), (3, 'Male', 47, 28.0, 26.0), (8, 'Female', 56, 28.0, 26.0), (11, 'Female', 47, 35.0, 124.0), (14, 'Male', 76, 28.0, 13.0), (15, 'Male', 71, 28.0, 30.0), (20, 'Female', 60, 33.0, 124.0), (21, 'Male', 65, 28.0, 124.0), (22, 'Male', 49, 28.0, 124.0), (27, 'Female', 51, 28.0, 124.0)]\n"
     ]
    }
   ],
   "source": [
    "cursor = conn.cursor()\n",
    "\n",
    "query = \"\"\"\n",
    "SELECT\n",
    "*\n",
    "FROM pa004.users u\n",
    "WHERE u.age > 44\n",
    "LIMIT 10\n",
    "\"\"\"\n",
    "\n",
    "cursor.execute(query)\n",
    "record = cursor.fetchall()\n",
    "print(record)\n",
    "\n",
    "cursor.close()\n",
    "conn.close()"
   ]
  },
  {
   "cell_type": "code",
   "execution_count": 31,
   "id": "f6527ab5",
   "metadata": {
    "ExecuteTime": {
     "end_time": "2022-08-14T17:34:57.431059Z",
     "start_time": "2022-08-14T17:34:57.398913Z"
    },
    "hidden": true
   },
   "outputs": [
    {
     "data": {
      "text/html": [
       "<div>\n",
       "<style scoped>\n",
       "    .dataframe tbody tr th:only-of-type {\n",
       "        vertical-align: middle;\n",
       "    }\n",
       "\n",
       "    .dataframe tbody tr th {\n",
       "        vertical-align: top;\n",
       "    }\n",
       "\n",
       "    .dataframe thead th {\n",
       "        text-align: right;\n",
       "    }\n",
       "</style>\n",
       "<table border=\"1\" class=\"dataframe\">\n",
       "  <thead>\n",
       "    <tr style=\"text-align: right;\">\n",
       "      <th></th>\n",
       "      <th>0</th>\n",
       "      <th>1</th>\n",
       "      <th>2</th>\n",
       "      <th>3</th>\n",
       "      <th>4</th>\n",
       "    </tr>\n",
       "  </thead>\n",
       "  <tbody>\n",
       "    <tr>\n",
       "      <th>0</th>\n",
       "      <td>2</td>\n",
       "      <td>Male</td>\n",
       "      <td>76</td>\n",
       "      <td>3.0</td>\n",
       "      <td>26.0</td>\n",
       "    </tr>\n",
       "    <tr>\n",
       "      <th>1</th>\n",
       "      <td>3</td>\n",
       "      <td>Male</td>\n",
       "      <td>47</td>\n",
       "      <td>28.0</td>\n",
       "      <td>26.0</td>\n",
       "    </tr>\n",
       "    <tr>\n",
       "      <th>2</th>\n",
       "      <td>8</td>\n",
       "      <td>Female</td>\n",
       "      <td>56</td>\n",
       "      <td>28.0</td>\n",
       "      <td>26.0</td>\n",
       "    </tr>\n",
       "    <tr>\n",
       "      <th>3</th>\n",
       "      <td>11</td>\n",
       "      <td>Female</td>\n",
       "      <td>47</td>\n",
       "      <td>35.0</td>\n",
       "      <td>124.0</td>\n",
       "    </tr>\n",
       "    <tr>\n",
       "      <th>4</th>\n",
       "      <td>14</td>\n",
       "      <td>Male</td>\n",
       "      <td>76</td>\n",
       "      <td>28.0</td>\n",
       "      <td>13.0</td>\n",
       "    </tr>\n",
       "    <tr>\n",
       "      <th>5</th>\n",
       "      <td>15</td>\n",
       "      <td>Male</td>\n",
       "      <td>71</td>\n",
       "      <td>28.0</td>\n",
       "      <td>30.0</td>\n",
       "    </tr>\n",
       "    <tr>\n",
       "      <th>6</th>\n",
       "      <td>20</td>\n",
       "      <td>Female</td>\n",
       "      <td>60</td>\n",
       "      <td>33.0</td>\n",
       "      <td>124.0</td>\n",
       "    </tr>\n",
       "    <tr>\n",
       "      <th>7</th>\n",
       "      <td>21</td>\n",
       "      <td>Male</td>\n",
       "      <td>65</td>\n",
       "      <td>28.0</td>\n",
       "      <td>124.0</td>\n",
       "    </tr>\n",
       "    <tr>\n",
       "      <th>8</th>\n",
       "      <td>22</td>\n",
       "      <td>Male</td>\n",
       "      <td>49</td>\n",
       "      <td>28.0</td>\n",
       "      <td>124.0</td>\n",
       "    </tr>\n",
       "    <tr>\n",
       "      <th>9</th>\n",
       "      <td>27</td>\n",
       "      <td>Female</td>\n",
       "      <td>51</td>\n",
       "      <td>28.0</td>\n",
       "      <td>124.0</td>\n",
       "    </tr>\n",
       "  </tbody>\n",
       "</table>\n",
       "</div>"
      ],
      "text/plain": [
       "    0       1   2     3      4\n",
       "0   2    Male  76   3.0   26.0\n",
       "1   3    Male  47  28.0   26.0\n",
       "2   8  Female  56  28.0   26.0\n",
       "3  11  Female  47  35.0  124.0\n",
       "4  14    Male  76  28.0   13.0\n",
       "5  15    Male  71  28.0   30.0\n",
       "6  20  Female  60  33.0  124.0\n",
       "7  21    Male  65  28.0  124.0\n",
       "8  22    Male  49  28.0  124.0\n",
       "9  27  Female  51  28.0  124.0"
      ]
     },
     "execution_count": 31,
     "metadata": {},
     "output_type": "execute_result"
    }
   ],
   "source": [
    "pd.DataFrame(record)"
   ]
  },
  {
   "cell_type": "markdown",
   "id": "76241cc4",
   "metadata": {
    "heading_collapsed": true,
    "hidden": true
   },
   "source": [
    "## 1.4 Coleta de Dados usando Pandas"
   ]
  },
  {
   "cell_type": "code",
   "execution_count": 5,
   "id": "df43f811",
   "metadata": {
    "ExecuteTime": {
     "end_time": "2022-08-15T18:58:14.100984Z",
     "start_time": "2022-08-15T18:58:13.783018Z"
    },
    "hidden": true
   },
   "outputs": [
    {
     "name": "stderr",
     "output_type": "stream",
     "text": [
      "/home/jonas/anaconda3/envs/health_insurance/lib/python3.9/site-packages/pandas/io/sql.py:761: UserWarning: pandas only support SQLAlchemy connectable(engine/connection) ordatabase string URI or sqlite3 DBAPI2 connectionother DBAPI2 objects are not tested, please consider using SQLAlchemy\n",
      "  warnings.warn(\n"
     ]
    },
    {
     "data": {
      "text/html": [
       "<div>\n",
       "<style scoped>\n",
       "    .dataframe tbody tr th:only-of-type {\n",
       "        vertical-align: middle;\n",
       "    }\n",
       "\n",
       "    .dataframe tbody tr th {\n",
       "        vertical-align: top;\n",
       "    }\n",
       "\n",
       "    .dataframe thead th {\n",
       "        text-align: right;\n",
       "    }\n",
       "</style>\n",
       "<table border=\"1\" class=\"dataframe\">\n",
       "  <thead>\n",
       "    <tr style=\"text-align: right;\">\n",
       "      <th></th>\n",
       "      <th>id</th>\n",
       "      <th>gender</th>\n",
       "      <th>age</th>\n",
       "      <th>region_code</th>\n",
       "      <th>policy_sales_channel</th>\n",
       "    </tr>\n",
       "  </thead>\n",
       "  <tbody>\n",
       "    <tr>\n",
       "      <th>0</th>\n",
       "      <td>2</td>\n",
       "      <td>Male</td>\n",
       "      <td>76</td>\n",
       "      <td>3.0</td>\n",
       "      <td>26.0</td>\n",
       "    </tr>\n",
       "    <tr>\n",
       "      <th>1</th>\n",
       "      <td>3</td>\n",
       "      <td>Male</td>\n",
       "      <td>47</td>\n",
       "      <td>28.0</td>\n",
       "      <td>26.0</td>\n",
       "    </tr>\n",
       "    <tr>\n",
       "      <th>2</th>\n",
       "      <td>8</td>\n",
       "      <td>Female</td>\n",
       "      <td>56</td>\n",
       "      <td>28.0</td>\n",
       "      <td>26.0</td>\n",
       "    </tr>\n",
       "    <tr>\n",
       "      <th>3</th>\n",
       "      <td>11</td>\n",
       "      <td>Female</td>\n",
       "      <td>47</td>\n",
       "      <td>35.0</td>\n",
       "      <td>124.0</td>\n",
       "    </tr>\n",
       "    <tr>\n",
       "      <th>4</th>\n",
       "      <td>14</td>\n",
       "      <td>Male</td>\n",
       "      <td>76</td>\n",
       "      <td>28.0</td>\n",
       "      <td>13.0</td>\n",
       "    </tr>\n",
       "    <tr>\n",
       "      <th>5</th>\n",
       "      <td>15</td>\n",
       "      <td>Male</td>\n",
       "      <td>71</td>\n",
       "      <td>28.0</td>\n",
       "      <td>30.0</td>\n",
       "    </tr>\n",
       "    <tr>\n",
       "      <th>6</th>\n",
       "      <td>20</td>\n",
       "      <td>Female</td>\n",
       "      <td>60</td>\n",
       "      <td>33.0</td>\n",
       "      <td>124.0</td>\n",
       "    </tr>\n",
       "    <tr>\n",
       "      <th>7</th>\n",
       "      <td>21</td>\n",
       "      <td>Male</td>\n",
       "      <td>65</td>\n",
       "      <td>28.0</td>\n",
       "      <td>124.0</td>\n",
       "    </tr>\n",
       "    <tr>\n",
       "      <th>8</th>\n",
       "      <td>22</td>\n",
       "      <td>Male</td>\n",
       "      <td>49</td>\n",
       "      <td>28.0</td>\n",
       "      <td>124.0</td>\n",
       "    </tr>\n",
       "    <tr>\n",
       "      <th>9</th>\n",
       "      <td>27</td>\n",
       "      <td>Female</td>\n",
       "      <td>51</td>\n",
       "      <td>28.0</td>\n",
       "      <td>124.0</td>\n",
       "    </tr>\n",
       "  </tbody>\n",
       "</table>\n",
       "</div>"
      ],
      "text/plain": [
       "   id  gender  age  region_code  policy_sales_channel\n",
       "0   2    Male   76          3.0                  26.0\n",
       "1   3    Male   47         28.0                  26.0\n",
       "2   8  Female   56         28.0                  26.0\n",
       "3  11  Female   47         35.0                 124.0\n",
       "4  14    Male   76         28.0                  13.0\n",
       "5  15    Male   71         28.0                  30.0\n",
       "6  20  Female   60         33.0                 124.0\n",
       "7  21    Male   65         28.0                 124.0\n",
       "8  22    Male   49         28.0                 124.0\n",
       "9  27  Female   51         28.0                 124.0"
      ]
     },
     "execution_count": 5,
     "metadata": {},
     "output_type": "execute_result"
    }
   ],
   "source": [
    "query = \"\"\"\n",
    "SELECT\n",
    "*\n",
    "FROM pa004.users u\n",
    "WHERE u.age > 44\n",
    "LIMIT 10\n",
    "\"\"\"\n",
    "\n",
    "pd.read_sql(query, conn)"
   ]
  },
  {
   "cell_type": "code",
   "execution_count": 57,
   "id": "bd0de9cd",
   "metadata": {
    "ExecuteTime": {
     "end_time": "2022-08-15T19:19:47.726032Z",
     "start_time": "2022-08-15T19:19:29.206202Z"
    },
    "hidden": true
   },
   "outputs": [
    {
     "name": "stderr",
     "output_type": "stream",
     "text": [
      "/home/jonas/anaconda3/envs/health_insurance/lib/python3.9/site-packages/pandas/io/sql.py:761: UserWarning: pandas only support SQLAlchemy connectable(engine/connection) ordatabase string URI or sqlite3 DBAPI2 connectionother DBAPI2 objects are not tested, please consider using SQLAlchemy\n",
      "  warnings.warn(\n"
     ]
    },
    {
     "data": {
      "text/html": [
       "<div>\n",
       "<style scoped>\n",
       "    .dataframe tbody tr th:only-of-type {\n",
       "        vertical-align: middle;\n",
       "    }\n",
       "\n",
       "    .dataframe tbody tr th {\n",
       "        vertical-align: top;\n",
       "    }\n",
       "\n",
       "    .dataframe thead th {\n",
       "        text-align: right;\n",
       "    }\n",
       "</style>\n",
       "<table border=\"1\" class=\"dataframe\">\n",
       "  <thead>\n",
       "    <tr style=\"text-align: right;\">\n",
       "      <th></th>\n",
       "      <th>id</th>\n",
       "      <th>gender</th>\n",
       "      <th>age</th>\n",
       "      <th>region_code</th>\n",
       "      <th>policy_sales_channel</th>\n",
       "      <th>id</th>\n",
       "      <th>driving_license</th>\n",
       "      <th>vehicle_age</th>\n",
       "      <th>vehicle_damage</th>\n",
       "      <th>id</th>\n",
       "      <th>previously_insured</th>\n",
       "      <th>annual_premium</th>\n",
       "      <th>vintage</th>\n",
       "      <th>response</th>\n",
       "    </tr>\n",
       "  </thead>\n",
       "  <tbody>\n",
       "    <tr>\n",
       "      <th>0</th>\n",
       "      <td>7</td>\n",
       "      <td>Male</td>\n",
       "      <td>23</td>\n",
       "      <td>11.0</td>\n",
       "      <td>152.0</td>\n",
       "      <td>7</td>\n",
       "      <td>1</td>\n",
       "      <td>&lt; 1 Year</td>\n",
       "      <td>Yes</td>\n",
       "      <td>7</td>\n",
       "      <td>0</td>\n",
       "      <td>23367.0</td>\n",
       "      <td>249</td>\n",
       "      <td>0</td>\n",
       "    </tr>\n",
       "    <tr>\n",
       "      <th>1</th>\n",
       "      <td>13</td>\n",
       "      <td>Female</td>\n",
       "      <td>41</td>\n",
       "      <td>15.0</td>\n",
       "      <td>14.0</td>\n",
       "      <td>13</td>\n",
       "      <td>1</td>\n",
       "      <td>1-2 Year</td>\n",
       "      <td>No</td>\n",
       "      <td>13</td>\n",
       "      <td>1</td>\n",
       "      <td>31409.0</td>\n",
       "      <td>221</td>\n",
       "      <td>0</td>\n",
       "    </tr>\n",
       "    <tr>\n",
       "      <th>2</th>\n",
       "      <td>18</td>\n",
       "      <td>Female</td>\n",
       "      <td>25</td>\n",
       "      <td>35.0</td>\n",
       "      <td>152.0</td>\n",
       "      <td>18</td>\n",
       "      <td>1</td>\n",
       "      <td>&lt; 1 Year</td>\n",
       "      <td>No</td>\n",
       "      <td>18</td>\n",
       "      <td>1</td>\n",
       "      <td>46622.0</td>\n",
       "      <td>299</td>\n",
       "      <td>0</td>\n",
       "    </tr>\n",
       "    <tr>\n",
       "      <th>3</th>\n",
       "      <td>31</td>\n",
       "      <td>Female</td>\n",
       "      <td>26</td>\n",
       "      <td>8.0</td>\n",
       "      <td>160.0</td>\n",
       "      <td>31</td>\n",
       "      <td>1</td>\n",
       "      <td>&lt; 1 Year</td>\n",
       "      <td>No</td>\n",
       "      <td>31</td>\n",
       "      <td>0</td>\n",
       "      <td>2630.0</td>\n",
       "      <td>136</td>\n",
       "      <td>0</td>\n",
       "    </tr>\n",
       "    <tr>\n",
       "      <th>4</th>\n",
       "      <td>39</td>\n",
       "      <td>Male</td>\n",
       "      <td>45</td>\n",
       "      <td>8.0</td>\n",
       "      <td>124.0</td>\n",
       "      <td>39</td>\n",
       "      <td>1</td>\n",
       "      <td>1-2 Year</td>\n",
       "      <td>Yes</td>\n",
       "      <td>39</td>\n",
       "      <td>0</td>\n",
       "      <td>42297.0</td>\n",
       "      <td>264</td>\n",
       "      <td>0</td>\n",
       "    </tr>\n",
       "  </tbody>\n",
       "</table>\n",
       "</div>"
      ],
      "text/plain": [
       "   id  gender  age  region_code  policy_sales_channel  id  driving_license  \\\n",
       "0   7    Male   23         11.0                 152.0   7                1   \n",
       "1  13  Female   41         15.0                  14.0  13                1   \n",
       "2  18  Female   25         35.0                 152.0  18                1   \n",
       "3  31  Female   26          8.0                 160.0  31                1   \n",
       "4  39    Male   45          8.0                 124.0  39                1   \n",
       "\n",
       "  vehicle_age vehicle_damage  id  previously_insured  annual_premium  vintage  \\\n",
       "0    < 1 Year            Yes   7                   0         23367.0      249   \n",
       "1    1-2 Year             No  13                   1         31409.0      221   \n",
       "2    < 1 Year             No  18                   1         46622.0      299   \n",
       "3    < 1 Year             No  31                   0          2630.0      136   \n",
       "4    1-2 Year            Yes  39                   0         42297.0      264   \n",
       "\n",
       "   response  \n",
       "0         0  \n",
       "1         0  \n",
       "2         0  \n",
       "3         0  \n",
       "4         0  "
      ]
     },
     "execution_count": 57,
     "metadata": {},
     "output_type": "execute_result"
    }
   ],
   "source": [
    "query = \"\"\"\n",
    "SELECT\n",
    "*\n",
    "FROM pa004.users u LEFT JOIN pa004.vehicle v ON (u.id = v.id)\n",
    "                   LEFT JOIN pa004.insurance i ON (u.id = i.id)\n",
    "\"\"\"\n",
    "\n",
    "df = pd.read_sql(query, conn)\n",
    "df.head()"
   ]
  },
  {
   "cell_type": "code",
   "execution_count": 58,
   "id": "d06dc019",
   "metadata": {
    "ExecuteTime": {
     "end_time": "2022-08-15T19:20:12.217095Z",
     "start_time": "2022-08-15T19:19:49.797509Z"
    },
    "hidden": true
   },
   "outputs": [],
   "source": [
    "# Drop das Colunas \"id\" que estão repetidas\n",
    "df['id_aux'] = df['id'].apply(np.mean, axis=1)\n",
    "df = df.drop(columns='id', axis=1)\n",
    "\n",
    "df.insert(0, 'id', df['id_aux'].astype('int64')) \n",
    "df = df.drop(columns='id_aux', axis=1)"
   ]
  },
  {
   "cell_type": "code",
   "execution_count": 59,
   "id": "3736a7d3",
   "metadata": {
    "ExecuteTime": {
     "end_time": "2022-08-15T19:20:13.801205Z",
     "start_time": "2022-08-15T19:20:13.789688Z"
    },
    "hidden": true
   },
   "outputs": [
    {
     "data": {
      "text/html": [
       "<div>\n",
       "<style scoped>\n",
       "    .dataframe tbody tr th:only-of-type {\n",
       "        vertical-align: middle;\n",
       "    }\n",
       "\n",
       "    .dataframe tbody tr th {\n",
       "        vertical-align: top;\n",
       "    }\n",
       "\n",
       "    .dataframe thead th {\n",
       "        text-align: right;\n",
       "    }\n",
       "</style>\n",
       "<table border=\"1\" class=\"dataframe\">\n",
       "  <thead>\n",
       "    <tr style=\"text-align: right;\">\n",
       "      <th></th>\n",
       "      <th>id</th>\n",
       "      <th>gender</th>\n",
       "      <th>age</th>\n",
       "      <th>region_code</th>\n",
       "      <th>policy_sales_channel</th>\n",
       "      <th>driving_license</th>\n",
       "      <th>vehicle_age</th>\n",
       "      <th>vehicle_damage</th>\n",
       "      <th>previously_insured</th>\n",
       "      <th>annual_premium</th>\n",
       "      <th>vintage</th>\n",
       "      <th>response</th>\n",
       "    </tr>\n",
       "  </thead>\n",
       "  <tbody>\n",
       "    <tr>\n",
       "      <th>0</th>\n",
       "      <td>7</td>\n",
       "      <td>Male</td>\n",
       "      <td>23</td>\n",
       "      <td>11.0</td>\n",
       "      <td>152.0</td>\n",
       "      <td>1</td>\n",
       "      <td>&lt; 1 Year</td>\n",
       "      <td>Yes</td>\n",
       "      <td>0</td>\n",
       "      <td>23367.0</td>\n",
       "      <td>249</td>\n",
       "      <td>0</td>\n",
       "    </tr>\n",
       "    <tr>\n",
       "      <th>1</th>\n",
       "      <td>13</td>\n",
       "      <td>Female</td>\n",
       "      <td>41</td>\n",
       "      <td>15.0</td>\n",
       "      <td>14.0</td>\n",
       "      <td>1</td>\n",
       "      <td>1-2 Year</td>\n",
       "      <td>No</td>\n",
       "      <td>1</td>\n",
       "      <td>31409.0</td>\n",
       "      <td>221</td>\n",
       "      <td>0</td>\n",
       "    </tr>\n",
       "    <tr>\n",
       "      <th>2</th>\n",
       "      <td>18</td>\n",
       "      <td>Female</td>\n",
       "      <td>25</td>\n",
       "      <td>35.0</td>\n",
       "      <td>152.0</td>\n",
       "      <td>1</td>\n",
       "      <td>&lt; 1 Year</td>\n",
       "      <td>No</td>\n",
       "      <td>1</td>\n",
       "      <td>46622.0</td>\n",
       "      <td>299</td>\n",
       "      <td>0</td>\n",
       "    </tr>\n",
       "    <tr>\n",
       "      <th>3</th>\n",
       "      <td>31</td>\n",
       "      <td>Female</td>\n",
       "      <td>26</td>\n",
       "      <td>8.0</td>\n",
       "      <td>160.0</td>\n",
       "      <td>1</td>\n",
       "      <td>&lt; 1 Year</td>\n",
       "      <td>No</td>\n",
       "      <td>0</td>\n",
       "      <td>2630.0</td>\n",
       "      <td>136</td>\n",
       "      <td>0</td>\n",
       "    </tr>\n",
       "    <tr>\n",
       "      <th>4</th>\n",
       "      <td>39</td>\n",
       "      <td>Male</td>\n",
       "      <td>45</td>\n",
       "      <td>8.0</td>\n",
       "      <td>124.0</td>\n",
       "      <td>1</td>\n",
       "      <td>1-2 Year</td>\n",
       "      <td>Yes</td>\n",
       "      <td>0</td>\n",
       "      <td>42297.0</td>\n",
       "      <td>264</td>\n",
       "      <td>0</td>\n",
       "    </tr>\n",
       "  </tbody>\n",
       "</table>\n",
       "</div>"
      ],
      "text/plain": [
       "   id  gender  age  region_code  policy_sales_channel  driving_license  \\\n",
       "0   7    Male   23         11.0                 152.0                1   \n",
       "1  13  Female   41         15.0                  14.0                1   \n",
       "2  18  Female   25         35.0                 152.0                1   \n",
       "3  31  Female   26          8.0                 160.0                1   \n",
       "4  39    Male   45          8.0                 124.0                1   \n",
       "\n",
       "  vehicle_age vehicle_damage  previously_insured  annual_premium  vintage  \\\n",
       "0    < 1 Year            Yes                   0         23367.0      249   \n",
       "1    1-2 Year             No                   1         31409.0      221   \n",
       "2    < 1 Year             No                   1         46622.0      299   \n",
       "3    < 1 Year             No                   0          2630.0      136   \n",
       "4    1-2 Year            Yes                   0         42297.0      264   \n",
       "\n",
       "   response  \n",
       "0         0  \n",
       "1         0  \n",
       "2         0  \n",
       "3         0  \n",
       "4         0  "
      ]
     },
     "execution_count": 59,
     "metadata": {},
     "output_type": "execute_result"
    }
   ],
   "source": [
    "df.head()"
   ]
  },
  {
   "cell_type": "code",
   "execution_count": 63,
   "id": "38726074",
   "metadata": {
    "ExecuteTime": {
     "end_time": "2022-08-15T19:21:57.840034Z",
     "start_time": "2022-08-15T19:21:56.579563Z"
    },
    "hidden": true
   },
   "outputs": [],
   "source": [
    "df.to_csv('datasets/data_raw.csv', index=False)"
   ]
  },
  {
   "cell_type": "markdown",
   "id": "ef7fbcd7",
   "metadata": {
    "ExecuteTime": {
     "end_time": "2022-08-14T17:59:48.682275Z",
     "start_time": "2022-08-14T17:59:48.669229Z"
    }
   },
   "source": [
    "# 2 Análise Descritiva"
   ]
  },
  {
   "cell_type": "code",
   "execution_count": 64,
   "id": "52662bf1",
   "metadata": {
    "ExecuteTime": {
     "end_time": "2022-08-15T19:21:59.485719Z",
     "start_time": "2022-08-15T19:21:59.220881Z"
    }
   },
   "outputs": [],
   "source": [
    "df2 = pd.read_csv('datasets/data_raw.csv')"
   ]
  },
  {
   "cell_type": "code",
   "execution_count": 65,
   "id": "c0ce8f82",
   "metadata": {
    "ExecuteTime": {
     "end_time": "2022-08-15T19:22:00.130174Z",
     "start_time": "2022-08-15T19:22:00.097676Z"
    }
   },
   "outputs": [
    {
     "data": {
      "text/html": [
       "<div>\n",
       "<style scoped>\n",
       "    .dataframe tbody tr th:only-of-type {\n",
       "        vertical-align: middle;\n",
       "    }\n",
       "\n",
       "    .dataframe tbody tr th {\n",
       "        vertical-align: top;\n",
       "    }\n",
       "\n",
       "    .dataframe thead th {\n",
       "        text-align: right;\n",
       "    }\n",
       "</style>\n",
       "<table border=\"1\" class=\"dataframe\">\n",
       "  <thead>\n",
       "    <tr style=\"text-align: right;\">\n",
       "      <th></th>\n",
       "      <th>id</th>\n",
       "      <th>gender</th>\n",
       "      <th>age</th>\n",
       "      <th>region_code</th>\n",
       "      <th>policy_sales_channel</th>\n",
       "      <th>driving_license</th>\n",
       "      <th>vehicle_age</th>\n",
       "      <th>vehicle_damage</th>\n",
       "      <th>previously_insured</th>\n",
       "      <th>annual_premium</th>\n",
       "      <th>vintage</th>\n",
       "      <th>response</th>\n",
       "    </tr>\n",
       "  </thead>\n",
       "  <tbody>\n",
       "    <tr>\n",
       "      <th>0</th>\n",
       "      <td>7</td>\n",
       "      <td>Male</td>\n",
       "      <td>23</td>\n",
       "      <td>11.0</td>\n",
       "      <td>152.0</td>\n",
       "      <td>1</td>\n",
       "      <td>&lt; 1 Year</td>\n",
       "      <td>Yes</td>\n",
       "      <td>0</td>\n",
       "      <td>23367.0</td>\n",
       "      <td>249</td>\n",
       "      <td>0</td>\n",
       "    </tr>\n",
       "    <tr>\n",
       "      <th>1</th>\n",
       "      <td>13</td>\n",
       "      <td>Female</td>\n",
       "      <td>41</td>\n",
       "      <td>15.0</td>\n",
       "      <td>14.0</td>\n",
       "      <td>1</td>\n",
       "      <td>1-2 Year</td>\n",
       "      <td>No</td>\n",
       "      <td>1</td>\n",
       "      <td>31409.0</td>\n",
       "      <td>221</td>\n",
       "      <td>0</td>\n",
       "    </tr>\n",
       "    <tr>\n",
       "      <th>2</th>\n",
       "      <td>18</td>\n",
       "      <td>Female</td>\n",
       "      <td>25</td>\n",
       "      <td>35.0</td>\n",
       "      <td>152.0</td>\n",
       "      <td>1</td>\n",
       "      <td>&lt; 1 Year</td>\n",
       "      <td>No</td>\n",
       "      <td>1</td>\n",
       "      <td>46622.0</td>\n",
       "      <td>299</td>\n",
       "      <td>0</td>\n",
       "    </tr>\n",
       "    <tr>\n",
       "      <th>3</th>\n",
       "      <td>31</td>\n",
       "      <td>Female</td>\n",
       "      <td>26</td>\n",
       "      <td>8.0</td>\n",
       "      <td>160.0</td>\n",
       "      <td>1</td>\n",
       "      <td>&lt; 1 Year</td>\n",
       "      <td>No</td>\n",
       "      <td>0</td>\n",
       "      <td>2630.0</td>\n",
       "      <td>136</td>\n",
       "      <td>0</td>\n",
       "    </tr>\n",
       "    <tr>\n",
       "      <th>4</th>\n",
       "      <td>39</td>\n",
       "      <td>Male</td>\n",
       "      <td>45</td>\n",
       "      <td>8.0</td>\n",
       "      <td>124.0</td>\n",
       "      <td>1</td>\n",
       "      <td>1-2 Year</td>\n",
       "      <td>Yes</td>\n",
       "      <td>0</td>\n",
       "      <td>42297.0</td>\n",
       "      <td>264</td>\n",
       "      <td>0</td>\n",
       "    </tr>\n",
       "  </tbody>\n",
       "</table>\n",
       "</div>"
      ],
      "text/plain": [
       "   id  gender  age  region_code  policy_sales_channel  driving_license  \\\n",
       "0   7    Male   23         11.0                 152.0                1   \n",
       "1  13  Female   41         15.0                  14.0                1   \n",
       "2  18  Female   25         35.0                 152.0                1   \n",
       "3  31  Female   26          8.0                 160.0                1   \n",
       "4  39    Male   45          8.0                 124.0                1   \n",
       "\n",
       "  vehicle_age vehicle_damage  previously_insured  annual_premium  vintage  \\\n",
       "0    < 1 Year            Yes                   0         23367.0      249   \n",
       "1    1-2 Year             No                   1         31409.0      221   \n",
       "2    < 1 Year             No                   1         46622.0      299   \n",
       "3    < 1 Year             No                   0          2630.0      136   \n",
       "4    1-2 Year            Yes                   0         42297.0      264   \n",
       "\n",
       "   response  \n",
       "0         0  \n",
       "1         0  \n",
       "2         0  \n",
       "3         0  \n",
       "4         0  "
      ]
     },
     "execution_count": 65,
     "metadata": {},
     "output_type": "execute_result"
    }
   ],
   "source": [
    "df2.head()"
   ]
  },
  {
   "cell_type": "markdown",
   "id": "92669921",
   "metadata": {
    "heading_collapsed": true
   },
   "source": [
    "## 2.1 Dimensões dos dados"
   ]
  },
  {
   "cell_type": "code",
   "execution_count": 75,
   "id": "ad2ad472",
   "metadata": {
    "ExecuteTime": {
     "end_time": "2022-08-15T19:27:23.157266Z",
     "start_time": "2022-08-15T19:27:23.153908Z"
    },
    "hidden": true
   },
   "outputs": [
    {
     "name": "stdout",
     "output_type": "stream",
     "text": [
      "Linhas: 381109\n",
      "Colunas: 12\n"
     ]
    }
   ],
   "source": [
    "print(f'Linhas: {df2.shape[0]}')\n",
    "print(f'Colunas: {df2.shape[1]}')"
   ]
  },
  {
   "cell_type": "markdown",
   "id": "b8024404",
   "metadata": {
    "heading_collapsed": true
   },
   "source": [
    "## 2.2 Tipos das Variáveis"
   ]
  },
  {
   "cell_type": "code",
   "execution_count": 67,
   "id": "563d00ff",
   "metadata": {
    "ExecuteTime": {
     "end_time": "2022-08-15T19:23:54.051297Z",
     "start_time": "2022-08-15T19:23:54.046832Z"
    },
    "hidden": true
   },
   "outputs": [
    {
     "data": {
      "text/plain": [
       "id                        int64\n",
       "gender                   object\n",
       "age                       int64\n",
       "region_code             float64\n",
       "policy_sales_channel    float64\n",
       "driving_license           int64\n",
       "vehicle_age              object\n",
       "vehicle_damage           object\n",
       "previously_insured        int64\n",
       "annual_premium          float64\n",
       "vintage                   int64\n",
       "response                  int64\n",
       "dtype: object"
      ]
     },
     "execution_count": 67,
     "metadata": {},
     "output_type": "execute_result"
    }
   ],
   "source": [
    "df2.dtypes"
   ]
  },
  {
   "cell_type": "markdown",
   "id": "0c23015b",
   "metadata": {
    "ExecuteTime": {
     "end_time": "2022-08-15T19:25:49.384077Z",
     "start_time": "2022-08-15T19:25:49.377675Z"
    },
    "heading_collapsed": true
   },
   "source": [
    "## 2.3 Checagem de NA's"
   ]
  },
  {
   "cell_type": "code",
   "execution_count": 78,
   "id": "5edf9a70",
   "metadata": {
    "ExecuteTime": {
     "end_time": "2022-08-15T19:28:32.052552Z",
     "start_time": "2022-08-15T19:28:31.927573Z"
    },
    "hidden": true
   },
   "outputs": [
    {
     "data": {
      "text/plain": [
       "id                      0\n",
       "gender                  0\n",
       "age                     0\n",
       "region_code             0\n",
       "policy_sales_channel    0\n",
       "driving_license         0\n",
       "vehicle_age             0\n",
       "vehicle_damage          0\n",
       "previously_insured      0\n",
       "annual_premium          0\n",
       "vintage                 0\n",
       "response                0\n",
       "dtype: int64"
      ]
     },
     "execution_count": 78,
     "metadata": {},
     "output_type": "execute_result"
    }
   ],
   "source": [
    "df2.isna().sum()"
   ]
  },
  {
   "cell_type": "markdown",
   "id": "fa392679",
   "metadata": {},
   "source": [
    "## 2.4 Estatística Descritiva"
   ]
  },
  {
   "cell_type": "code",
   "execution_count": 80,
   "id": "e82c44dd",
   "metadata": {
    "ExecuteTime": {
     "end_time": "2022-08-15T19:29:18.118068Z",
     "start_time": "2022-08-15T19:29:18.002475Z"
    }
   },
   "outputs": [
    {
     "data": {
      "text/html": [
       "<div>\n",
       "<style scoped>\n",
       "    .dataframe tbody tr th:only-of-type {\n",
       "        vertical-align: middle;\n",
       "    }\n",
       "\n",
       "    .dataframe tbody tr th {\n",
       "        vertical-align: top;\n",
       "    }\n",
       "\n",
       "    .dataframe thead th {\n",
       "        text-align: right;\n",
       "    }\n",
       "</style>\n",
       "<table border=\"1\" class=\"dataframe\">\n",
       "  <thead>\n",
       "    <tr style=\"text-align: right;\">\n",
       "      <th></th>\n",
       "      <th>id</th>\n",
       "      <th>age</th>\n",
       "      <th>region_code</th>\n",
       "      <th>policy_sales_channel</th>\n",
       "      <th>driving_license</th>\n",
       "      <th>previously_insured</th>\n",
       "      <th>annual_premium</th>\n",
       "      <th>vintage</th>\n",
       "      <th>response</th>\n",
       "    </tr>\n",
       "  </thead>\n",
       "  <tbody>\n",
       "    <tr>\n",
       "      <th>count</th>\n",
       "      <td>381109.000000</td>\n",
       "      <td>381109.000000</td>\n",
       "      <td>381109.000000</td>\n",
       "      <td>381109.000000</td>\n",
       "      <td>381109.000000</td>\n",
       "      <td>381109.000000</td>\n",
       "      <td>381109.000000</td>\n",
       "      <td>381109.000000</td>\n",
       "      <td>381109.000000</td>\n",
       "    </tr>\n",
       "    <tr>\n",
       "      <th>mean</th>\n",
       "      <td>190555.000000</td>\n",
       "      <td>38.822584</td>\n",
       "      <td>26.388807</td>\n",
       "      <td>112.034295</td>\n",
       "      <td>0.997869</td>\n",
       "      <td>0.458210</td>\n",
       "      <td>30564.389581</td>\n",
       "      <td>154.347397</td>\n",
       "      <td>0.122563</td>\n",
       "    </tr>\n",
       "    <tr>\n",
       "      <th>std</th>\n",
       "      <td>110016.836208</td>\n",
       "      <td>15.511611</td>\n",
       "      <td>13.229888</td>\n",
       "      <td>54.203995</td>\n",
       "      <td>0.046110</td>\n",
       "      <td>0.498251</td>\n",
       "      <td>17213.155057</td>\n",
       "      <td>83.671304</td>\n",
       "      <td>0.327936</td>\n",
       "    </tr>\n",
       "    <tr>\n",
       "      <th>min</th>\n",
       "      <td>1.000000</td>\n",
       "      <td>20.000000</td>\n",
       "      <td>0.000000</td>\n",
       "      <td>1.000000</td>\n",
       "      <td>0.000000</td>\n",
       "      <td>0.000000</td>\n",
       "      <td>2630.000000</td>\n",
       "      <td>10.000000</td>\n",
       "      <td>0.000000</td>\n",
       "    </tr>\n",
       "    <tr>\n",
       "      <th>25%</th>\n",
       "      <td>95278.000000</td>\n",
       "      <td>25.000000</td>\n",
       "      <td>15.000000</td>\n",
       "      <td>29.000000</td>\n",
       "      <td>1.000000</td>\n",
       "      <td>0.000000</td>\n",
       "      <td>24405.000000</td>\n",
       "      <td>82.000000</td>\n",
       "      <td>0.000000</td>\n",
       "    </tr>\n",
       "    <tr>\n",
       "      <th>50%</th>\n",
       "      <td>190555.000000</td>\n",
       "      <td>36.000000</td>\n",
       "      <td>28.000000</td>\n",
       "      <td>133.000000</td>\n",
       "      <td>1.000000</td>\n",
       "      <td>0.000000</td>\n",
       "      <td>31669.000000</td>\n",
       "      <td>154.000000</td>\n",
       "      <td>0.000000</td>\n",
       "    </tr>\n",
       "    <tr>\n",
       "      <th>75%</th>\n",
       "      <td>285832.000000</td>\n",
       "      <td>49.000000</td>\n",
       "      <td>35.000000</td>\n",
       "      <td>152.000000</td>\n",
       "      <td>1.000000</td>\n",
       "      <td>1.000000</td>\n",
       "      <td>39400.000000</td>\n",
       "      <td>227.000000</td>\n",
       "      <td>0.000000</td>\n",
       "    </tr>\n",
       "    <tr>\n",
       "      <th>max</th>\n",
       "      <td>381109.000000</td>\n",
       "      <td>85.000000</td>\n",
       "      <td>52.000000</td>\n",
       "      <td>163.000000</td>\n",
       "      <td>1.000000</td>\n",
       "      <td>1.000000</td>\n",
       "      <td>540165.000000</td>\n",
       "      <td>299.000000</td>\n",
       "      <td>1.000000</td>\n",
       "    </tr>\n",
       "  </tbody>\n",
       "</table>\n",
       "</div>"
      ],
      "text/plain": [
       "                  id            age    region_code  policy_sales_channel  \\\n",
       "count  381109.000000  381109.000000  381109.000000         381109.000000   \n",
       "mean   190555.000000      38.822584      26.388807            112.034295   \n",
       "std    110016.836208      15.511611      13.229888             54.203995   \n",
       "min         1.000000      20.000000       0.000000              1.000000   \n",
       "25%     95278.000000      25.000000      15.000000             29.000000   \n",
       "50%    190555.000000      36.000000      28.000000            133.000000   \n",
       "75%    285832.000000      49.000000      35.000000            152.000000   \n",
       "max    381109.000000      85.000000      52.000000            163.000000   \n",
       "\n",
       "       driving_license  previously_insured  annual_premium        vintage  \\\n",
       "count    381109.000000       381109.000000   381109.000000  381109.000000   \n",
       "mean          0.997869            0.458210    30564.389581     154.347397   \n",
       "std           0.046110            0.498251    17213.155057      83.671304   \n",
       "min           0.000000            0.000000     2630.000000      10.000000   \n",
       "25%           1.000000            0.000000    24405.000000      82.000000   \n",
       "50%           1.000000            0.000000    31669.000000     154.000000   \n",
       "75%           1.000000            1.000000    39400.000000     227.000000   \n",
       "max           1.000000            1.000000   540165.000000     299.000000   \n",
       "\n",
       "            response  \n",
       "count  381109.000000  \n",
       "mean        0.122563  \n",
       "std         0.327936  \n",
       "min         0.000000  \n",
       "25%         0.000000  \n",
       "50%         0.000000  \n",
       "75%         0.000000  \n",
       "max         1.000000  "
      ]
     },
     "execution_count": 80,
     "metadata": {},
     "output_type": "execute_result"
    }
   ],
   "source": [
    "df2.describe()"
   ]
  },
  {
   "cell_type": "code",
   "execution_count": 84,
   "id": "e0708c6a",
   "metadata": {
    "ExecuteTime": {
     "end_time": "2022-08-15T19:31:38.341716Z",
     "start_time": "2022-08-15T19:31:38.334499Z"
    }
   },
   "outputs": [
    {
     "data": {
      "text/html": [
       "<div>\n",
       "<style scoped>\n",
       "    .dataframe tbody tr th:only-of-type {\n",
       "        vertical-align: middle;\n",
       "    }\n",
       "\n",
       "    .dataframe tbody tr th {\n",
       "        vertical-align: top;\n",
       "    }\n",
       "\n",
       "    .dataframe thead th {\n",
       "        text-align: right;\n",
       "    }\n",
       "</style>\n",
       "<table border=\"1\" class=\"dataframe\">\n",
       "  <thead>\n",
       "    <tr style=\"text-align: right;\">\n",
       "      <th></th>\n",
       "      <th>gender</th>\n",
       "      <th>vehicle_age</th>\n",
       "      <th>vehicle_damage</th>\n",
       "    </tr>\n",
       "  </thead>\n",
       "  <tbody>\n",
       "    <tr>\n",
       "      <th>0</th>\n",
       "      <td>Male</td>\n",
       "      <td>&lt; 1 Year</td>\n",
       "      <td>Yes</td>\n",
       "    </tr>\n",
       "    <tr>\n",
       "      <th>1</th>\n",
       "      <td>Female</td>\n",
       "      <td>1-2 Year</td>\n",
       "      <td>No</td>\n",
       "    </tr>\n",
       "    <tr>\n",
       "      <th>2</th>\n",
       "      <td>Female</td>\n",
       "      <td>&lt; 1 Year</td>\n",
       "      <td>No</td>\n",
       "    </tr>\n",
       "    <tr>\n",
       "      <th>3</th>\n",
       "      <td>Female</td>\n",
       "      <td>&lt; 1 Year</td>\n",
       "      <td>No</td>\n",
       "    </tr>\n",
       "    <tr>\n",
       "      <th>4</th>\n",
       "      <td>Male</td>\n",
       "      <td>1-2 Year</td>\n",
       "      <td>Yes</td>\n",
       "    </tr>\n",
       "  </tbody>\n",
       "</table>\n",
       "</div>"
      ],
      "text/plain": [
       "   gender vehicle_age vehicle_damage\n",
       "0    Male    < 1 Year            Yes\n",
       "1  Female    1-2 Year             No\n",
       "2  Female    < 1 Year             No\n",
       "3  Female    < 1 Year             No\n",
       "4    Male    1-2 Year            Yes"
      ]
     },
     "execution_count": 84,
     "metadata": {},
     "output_type": "execute_result"
    }
   ],
   "source": [
    "df2_cat = df2.select_dtypes(include=['object'])\n",
    "df2_cat.head()"
   ]
  },
  {
   "cell_type": "code",
   "execution_count": 124,
   "id": "5c0c0afe",
   "metadata": {
    "ExecuteTime": {
     "end_time": "2022-08-15T19:57:25.452578Z",
     "start_time": "2022-08-15T19:57:25.238031Z"
    }
   },
   "outputs": [
    {
     "data": {
      "image/png": "[encoded data removed]",
      "text/plain": [
       "<Figure size 1440x864 with 1 Axes>"
      ]
     },
     "metadata": {},
     "output_type": "display_data"
    }
   ],
   "source": [
    "# gender x response\n",
    "df_aux = df[['id', 'gender', 'response']].groupby(['gender', 'response']).count().reset_index()\n",
    "df_aux['frequencia'] = df_aux['id']\n",
    "sns.barplot(data=df_aux, x='gender', y='frequencia', hue='response');"
   ]
  },
  {
   "cell_type": "code",
   "execution_count": 126,
   "id": "95281531",
   "metadata": {
    "ExecuteTime": {
     "end_time": "2022-08-15T19:57:38.851959Z",
     "start_time": "2022-08-15T19:57:38.623736Z"
    }
   },
   "outputs": [
    {
     "data": {
      "text/plain": [
       "<AxesSubplot:xlabel='vehicle_age', ylabel='frequencia'>"
      ]
     },
     "execution_count": 126,
     "metadata": {},
     "output_type": "execute_result"
    },
    {
     "data": {
      "image/png": "[encoded data removed]",
      "text/plain": [
       "<Figure size 1440x864 with 1 Axes>"
      ]
     },
     "metadata": {},
     "output_type": "display_data"
    }
   ],
   "source": [
    "# vehicle_age x response\n",
    "df_aux = df[['vehicle_age', 'response', 'id']].groupby(['vehicle_age', 'response']).count().reset_index()\n",
    "df_aux['frequencia'] = df_aux['id']\n",
    "sns.barplot(data=df_aux, x='vehicle_age', y='frequencia', hue='response')"
   ]
  },
  {
   "cell_type": "code",
   "execution_count": 127,
   "id": "0a7a8e11",
   "metadata": {
    "ExecuteTime": {
     "end_time": "2022-08-15T19:59:37.900995Z",
     "start_time": "2022-08-15T19:59:37.682485Z"
    }
   },
   "outputs": [
    {
     "data": {
      "text/plain": [
       "<AxesSubplot:xlabel='vehicle_damage', ylabel='frequencia'>"
      ]
     },
     "execution_count": 127,
     "metadata": {},
     "output_type": "execute_result"
    },
    {
     "data": {
      "image/png": "[encoded data removed]",
      "text/plain": [
       "<Figure size 1440x864 with 1 Axes>"
      ]
     },
     "metadata": {},
     "output_type": "display_data"
    }
   ],
   "source": [
    "# vehicle_damage x response\n",
    "df_aux = df[['vehicle_damage', 'response', 'id']].groupby(['vehicle_damage', 'response']).count().reset_index()\n",
    "df_aux['frequencia'] = df_aux['id']\n",
    "sns.barplot(data=df_aux, x='vehicle_damage', y='frequencia',hue='response')"
   ]
  },
  {
   "cell_type": "markdown",
   "id": "da4aa372",
   "metadata": {
    "ExecuteTime": {
     "end_time": "2022-08-15T20:01:18.481246Z",
     "start_time": "2022-08-15T20:01:18.102555Z"
    }
   },
   "source": [
    "# 3 Feature Engineering"
   ]
  },
  {
   "cell_type": "code",
   "execution_count": null,
   "id": "d330235e",
   "metadata": {
    "ExecuteTime": {
     "end_time": "2022-08-15T19:39:15.982168Z",
     "start_time": "2022-08-15T19:39:15.932055Z"
    }
   },
   "outputs": [],
   "source": []
  },
  {
   "cell_type": "code",
   "execution_count": null,
   "id": "b2190d7b",
   "metadata": {},
   "outputs": [],
   "source": []
  }
 ],
 "metadata": {
  "kernelspec": {
   "display_name": "Python 3 (ipykernel)",
   "language": "python",
   "name": "python3"
  },
  "language_info": {
   "codemirror_mode": {
    "name": "ipython",
    "version": 3
   },
   "file_extension": ".py",
   "mimetype": "text/x-python",
   "name": "python",
   "nbconvert_exporter": "python",
   "pygments_lexer": "ipython3",
   "version": "3.9.12"
  },
  "latex_envs": {
   "LaTeX_envs_menu_present": true,
   "autoclose": false,
   "autocomplete": true,
   "bibliofile": "biblio.bib",
   "cite_by": "apalike",
   "current_citInitial": 1,
   "eqLabelWithNumbers": true,
   "eqNumInitial": 1,
   "hotkeys": {
    "equation": "Ctrl-E",
    "itemize": "Ctrl-I"
   },
   "labels_anchors": false,
   "latex_user_defs": false,
   "report_style_numbering": false,
   "user_envs_cfg": false
  },
  "varInspector": {
   "cols": {
    "lenName": 16,
    "lenType": 16,
    "lenVar": 40
   },
   "kernels_config": {
    "python": {
     "delete_cmd_postfix": "",
     "delete_cmd_prefix": "del ",
     "library": "var_list.py",
     "varRefreshCmd": "print(var_dic_list())"
    },
    "r": {
     "delete_cmd_postfix": ") ",
     "delete_cmd_prefix": "rm(",
     "library": "var_list.r",
     "varRefreshCmd": "cat(var_dic_list()) "
    }
   },
   "types_to_exclude": [
    "module",
    "function",
    "builtin_function_or_method",
    "instance",
    "_Feature"
   ],
   "window_display": false
  }
 },
 "nbformat": 4,
 "nbformat_minor": 5
}
